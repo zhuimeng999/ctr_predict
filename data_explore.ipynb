{
 "cells": [
  {
   "cell_type": "code",
   "execution_count": 7,
   "metadata": {},
   "outputs": [],
   "source": [
    "import os, sys\n",
    "import pandas as pd\n",
    "import numpy as np\n",
    "import seaborn as sns\n",
    "import matplotlib.pyplot as plt \n",
    "import pickle\n",
    "import collections\n",
    "import time\n",
    "from datetime import datetime\n",
    "import functools\n",
    "%matplotlib inline"
   ]
  },
  {
   "cell_type": "code",
   "execution_count": 3,
   "metadata": {},
   "outputs": [],
   "source": [
    "with open(os.path.join('output', 'value_counts.pickle'), 'rb') as f:\n",
    "    value_counts = pickle.load(f)\n",
    "with open(os.path.join('output', 'value_counts_train.pickle'), 'rb') as f:\n",
    "    value_counts_train = pickle.load(f)\n",
    "with open(os.path.join('output', 'value_counts_test.pickle'), 'rb') as f:\n",
    "    value_counts_test = pickle.load(f)"
   ]
  },
  {
   "cell_type": "code",
   "execution_count": 4,
   "metadata": {},
   "outputs": [
    {
     "name": "stdout",
     "output_type": "stream",
     "text": [
      "hour 24 4577464 1.0\n",
      "site_id 105 818259 0.17875815080140445\n",
      "site_domain 167 1404 0.0003067200528502245\n",
      "app_id 584 17436 0.0038090960409519333\n",
      "app_domain 21 498 0.00010879386489986595\n",
      "device_id 209565 383303 0.08373697750544844\n",
      "device_ip 609169 1502584 0.32825686886887584\n",
      "device_model 52 179 3.910462212264258e-05\n",
      "C14 259 1334955 0.29163637332811354\n",
      "C17 39 1295908 0.28310610416597487\n",
      "C19 1 857 0.00018722157072125525\n",
      "C21 2 196768 0.04298624740686109\n"
     ]
    },
    {
     "data": {
      "text/plain": [
       "4577464"
      ]
     },
     "execution_count": 4,
     "metadata": {},
     "output_type": "execute_result"
    }
   ],
   "source": [
    "total = sum(value_counts_test['hour'].values())\n",
    "for k in value_counts_test:\n",
    "    tmp = set(value_counts_test[k]) - set(value_counts_train[k])\n",
    "    count = 0\n",
    "    for v in tmp:\n",
    "        count += value_counts_test[k][v]\n",
    "    if tmp:\n",
    "        print(k, len(tmp), count, count/total)\n",
    "total"
   ]
  },
  {
   "cell_type": "code",
   "execution_count": 9,
   "metadata": {},
   "outputs": [],
   "source": [
    "site_id = list(value_counts['site_id'].items())\n",
    "site_id.sort(key = lambda x: x[1], reverse = True)"
   ]
  },
  {
   "cell_type": "code",
   "execution_count": 10,
   "metadata": {},
   "outputs": [
    {
     "data": {
      "text/plain": [
       "4842"
      ]
     },
     "execution_count": 10,
     "metadata": {},
     "output_type": "execute_result"
    }
   ],
   "source": [
    "len(site_id)"
   ]
  },
  {
   "cell_type": "code",
   "execution_count": 29,
   "metadata": {},
   "outputs": [
    {
     "data": {
      "text/plain": [
       "45006431"
      ]
     },
     "execution_count": 29,
     "metadata": {},
     "output_type": "execute_result"
    }
   ],
   "source": [
    "sum(map(lambda x: x[1], site_id))"
   ]
  },
  {
   "cell_type": "code",
   "execution_count": null,
   "metadata": {},
   "outputs": [],
   "source": []
  },
  {
   "cell_type": "code",
   "execution_count": 17,
   "metadata": {},
   "outputs": [
    {
     "data": {
      "text/plain": [
       "{'a': 'a'}"
      ]
     },
     "execution_count": 17,
     "metadata": {},
     "output_type": "execute_result"
    }
   ],
   "source": [
    "test = collections.defaultdict()\n",
    "test['a'] = 'a'\n",
    "dict(test)"
   ]
  },
  {
   "cell_type": "code",
   "execution_count": null,
   "metadata": {},
   "outputs": [],
   "source": []
  },
  {
   "cell_type": "code",
   "execution_count": 17,
   "metadata": {},
   "outputs": [
    {
     "data": {
      "text/plain": [
       "{'a': 'a'}"
      ]
     },
     "execution_count": 17,
     "metadata": {},
     "output_type": "execute_result"
    }
   ],
   "source": [
    "test = collections.defaultdict()\n",
    "test['a'] = 'a'\n",
    "dict(test)"
   ]
  },
  {
   "cell_type": "code",
   "execution_count": 77,
   "metadata": {},
   "outputs": [
    {
     "name": "stdout",
     "output_type": "stream",
     "text": [
      "('6b9769f2', 0.005080096220026867)\n"
     ]
    }
   ],
   "source": [
    "total = sum(value_counts['device_ip'].values())\n",
    "tmp = list(value_counts['device_ip'].items())\n",
    "tmp.sort(key = lambda x: x[1], reverse = True)\n",
    "tmp = list(map(lambda x: (x[0], x[1]/total), tmp))\n",
    "\n",
    "percent = 0\n",
    "for x in tmp:\n",
    "    percent += x[1]\n",
    "    print(x)\n",
    "    if percent > 0.0:\n",
    "        break"
   ]
  },
  {
   "cell_type": "code",
   "execution_count": 81,
   "metadata": {},
   "outputs": [
    {
     "data": {
      "text/plain": [
       "7338655"
      ]
     },
     "execution_count": 81,
     "metadata": {},
     "output_type": "execute_result"
    }
   ],
   "source": [
    "len(tmp)"
   ]
  },
  {
   "cell_type": "code",
   "execution_count": 4,
   "metadata": {},
   "outputs": [],
   "source": []
  },
  {
   "cell_type": "code",
   "execution_count": 82,
   "metadata": {},
   "outputs": [
    {
     "name": "stdout",
     "output_type": "stream",
     "text": [
      "('a99f214a', 0.8251090857701113)\n"
     ]
    }
   ],
   "source": [
    "total = sum(value_counts_train['device_id'].values())\n",
    "tmp = list(value_counts_train['device_id'].items())\n",
    "tmp.sort(key = lambda x: x[1], reverse = True)\n",
    "tmp = list(map(lambda x: (x[0], x[1]/total), tmp))\n",
    "\n",
    "percent = 0\n",
    "for x in tmp:\n",
    "    percent += x[1]\n",
    "    print(x)\n",
    "    if percent > 0.0:\n",
    "        break"
   ]
  },
  {
   "cell_type": "code",
   "execution_count": 6,
   "metadata": {},
   "outputs": [
    {
     "name": "stdout",
     "output_type": "stream",
     "text": [
      "hour hour 264 240\n",
      "site_id site_id 4842 4737\n",
      "site_domain site_domain 7912 7745\n",
      "app_id app_id 9136 8552\n",
      "app_domain app_domain 580 559\n",
      "device_id device_id 2895973 2686408\n",
      "device_ip device_ip 7338655 6729486\n",
      "device_model device_model 8303 8251\n",
      "C14 C14 2885 2626\n",
      "C17 C17 474 435\n",
      "C19 C19 69 68\n",
      "C21 C21 62 60\n"
     ]
    }
   ],
   "source": [
    "for (k1, v1), (k2, v2) in zip(value_counts.items(), value_counts_train.items()):\n",
    "    if len(v1) != len(v2):\n",
    "        print(k1, k2, len(v1), len(v2))"
   ]
  },
  {
   "cell_type": "code",
   "execution_count": 5,
   "metadata": {},
   "outputs": [
    {
     "name": "stdout",
     "output_type": "stream",
     "text": [
      "id,click,hour,C1,banner_pos,site_id,site_domain,site_category,app_id,app_domain,app_category,device_id,device_ip,device_model,device_type,device_conn_type,C14,C15,C16,C17,C18,C19,C20,C21\n",
      "\n"
     ]
    }
   ],
   "source": [
    "with open('data/train.csv') as f:\n",
    "    print(f.readline())"
   ]
  },
  {
   "cell_type": "code",
   "execution_count": 9,
   "metadata": {},
   "outputs": [
    {
     "data": {
      "text/plain": [
       "datetime.datetime(2014, 10, 23, 0, 0)"
      ]
     },
     "execution_count": 9,
     "metadata": {},
     "output_type": "execute_result"
    }
   ],
   "source": [
    "datetime.strptime('2014102300', '%Y%m%d%H')"
   ]
  },
  {
   "cell_type": "code",
   "execution_count": 27,
   "metadata": {},
   "outputs": [],
   "source": [
    "with open('output/feature_dict.pickle', 'rb') as f:\n",
    "    feature_dict = pickle.load(f)"
   ]
  },
  {
   "cell_type": "code",
   "execution_count": 28,
   "metadata": {},
   "outputs": [
    {
     "name": "stdout",
     "output_type": "stream",
     "text": [
      "click 2\n",
      "hour 216\n",
      "C1 7\n",
      "banner_pos 7\n",
      "site_id 751\n",
      "site_domain 566\n",
      "site_category 19\n",
      "app_id 535\n",
      "app_domain 47\n",
      "app_category 19\n",
      "device_id 21\n",
      "device_ip 1431\n",
      "device_model 1741\n",
      "device_type 5\n",
      "device_conn_type 4\n",
      "C14 1182\n",
      "C15 8\n",
      "C16 9\n",
      "C17 354\n",
      "C18 4\n",
      "C19 61\n",
      "C20 146\n",
      "C21 55\n"
     ]
    }
   ],
   "source": [
    "for k in feature_dict:\n",
    "    print(k, len(feature_dict[k]))"
   ]
  },
  {
   "cell_type": "code",
   "execution_count": 23,
   "metadata": {},
   "outputs": [
    {
     "data": {
      "text/plain": [
       "False"
      ]
     },
     "execution_count": 23,
     "metadata": {},
     "output_type": "execute_result"
    }
   ],
   "source": [
    "'others' in feature_dict['C20']"
   ]
  },
  {
   "cell_type": "code",
   "execution_count": 24,
   "metadata": {},
   "outputs": [
    {
     "data": {
      "text/plain": [
       "23"
      ]
     },
     "execution_count": 24,
     "metadata": {},
     "output_type": "execute_result"
    }
   ],
   "source": [
    "len(feature_dict)"
   ]
  },
  {
   "cell_type": "code",
   "execution_count": 26,
   "metadata": {},
   "outputs": [
    {
     "data": {
      "text/plain": [
       "{'1': 0, '0': 1}"
      ]
     },
     "execution_count": 26,
     "metadata": {},
     "output_type": "execute_result"
    }
   ],
   "source": [
    "feature_dict.get('click', 0)"
   ]
  },
  {
   "cell_type": "code",
   "execution_count": null,
   "metadata": {},
   "outputs": [],
   "source": []
  }
 ],
 "metadata": {
  "kernelspec": {
   "display_name": "Python 3",
   "language": "python",
   "name": "python3"
  },
  "language_info": {
   "codemirror_mode": {
    "name": "ipython",
    "version": 3
   },
   "file_extension": ".py",
   "mimetype": "text/x-python",
   "name": "python",
   "nbconvert_exporter": "python",
   "pygments_lexer": "ipython3",
   "version": "3.6.3"
  }
 },
 "nbformat": 4,
 "nbformat_minor": 2
}
