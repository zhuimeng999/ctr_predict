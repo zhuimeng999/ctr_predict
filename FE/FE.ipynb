{
 "cells": [
  {
   "cell_type": "code",
   "execution_count": 7,
   "metadata": {},
   "outputs": [],
   "source": [
    "import os\n",
    "import pickle\n",
    "import collections"
   ]
  },
  {
   "cell_type": "code",
   "execution_count": 4,
   "metadata": {},
   "outputs": [],
   "source": [
    "_RAW_COLUMN_NAMES = \\\n",
    "                ['id',          'click',            'hour',         'C1',           'banner_pos',           'site_id',\n",
    "                 'site_domain', 'site_category',    'app_id',       'app_domain',   'app_category',         'device_id',\n",
    "                 'device_ip',   'device_model',     'device_type',  'device_conn_type', 'C14',              'C15',\n",
    "                 'C16',         'C17',              'C18',          'C19',          'C20',                  'C21']\n",
    "progress_step = 400000\n",
    "train_filename = '../data/train.csv'\n",
    "test_filename = '../data/test.csv'\n",
    "\n",
    "train_dump_filename = 'train_count.pickle'\n",
    "valid_dump_filename = 'valid_count.pickle'\n",
    "test_dump_filename = 'test_count.pickle'\n",
    "\n",
    "output_dir = 'info'\n",
    "train_dump_path = os.path.join(output_dir, train_dump_filename)\n",
    "valid_dump_path = os.path.join(output_dir, valid_dump_filename)\n",
    "test_dump_path = os.path.join(output_dir, test_dump_filename)"
   ]
  },
  {
   "cell_type": "code",
   "execution_count": 5,
   "metadata": {},
   "outputs": [],
   "source": [
    "with open(train_dump_path, 'rb') as f:\n",
    "    train_count_dict = pickle.load(f)\n",
    "\n",
    "with open(valid_dump_path, 'rb') as f:\n",
    "    valid_count_dict = pickle.load(f)\n",
    "\n",
    "with open(test_dump_path, 'rb') as f:\n",
    "    test_count_dict = pickle.load(f)"
   ]
  },
  {
   "cell_type": "code",
   "execution_count": 15,
   "metadata": {},
   "outputs": [
    {
     "data": {
      "text/plain": [
       "(6865066, 33563901)"
      ]
     },
     "execution_count": 15,
     "metadata": {},
     "output_type": "execute_result"
    }
   ],
   "source": [
    "all_count_dict = { feature_name: collections.defaultdict(lambda:0) for feature_name in _RAW_COLUMN_NAMES[2:]}\n",
    "useful_count_dict = { feature_name: collections.defaultdict(lambda:0) for feature_name in _RAW_COLUMN_NAMES[2:]}\n",
    "predict_count_dict = { feature_name: collections.defaultdict(lambda:0) for feature_name in _RAW_COLUMN_NAMES[2:]}\n",
    "for feature_name in _RAW_COLUMN_NAMES[2:]:\n",
    "    for feature in train_count_dict[feature_name]:\n",
    "        all_count_dict[feature_name][feature] += train_count_dict[feature_name][feature]\n",
    "        useful_count_dict[feature_name][feature] += train_count_dict[feature_name][feature]\n",
    "    for feature in valid_count_dict[feature_name]:\n",
    "        all_count_dict[feature_name][feature] += valid_count_dict[feature_name][feature]\n",
    "        useful_count_dict[feature_name][feature] += valid_count_dict[feature_name][feature]\n",
    "        predict_count_dict[feature_name][feature] += valid_count_dict[feature_name][feature]\n",
    "    for feature in test_count_dict[feature_name]:\n",
    "        all_count_dict[feature_name][feature] += test_count_dict[feature_name][feature]\n",
    "        predict_count_dict[feature_name][feature] += test_count_dict[feature_name][feature]\n",
    "for feature_name in all_count_dict:\n",
    "    all_count_dict[feature_name] = dict(all_count_dict[feature_name])\n",
    "for feature_name in useful_count_dict:\n",
    "    useful_count_dict[feature_name] = dict(useful_count_dict[feature_name])\n",
    "for feature_name in predict_count_dict:\n",
    "    predict_count_dict[feature_name] = dict(predict_count_dict[feature_name])\n",
    "    \n",
    "click_count = train_count_dict['click']['1'] + valid_count_dict['click']['1'], train_count_dict['click']['0'] + valid_count_dict['click']['0']\n",
    "click_count"
   ]
  },
  {
   "cell_type": "code",
   "execution_count": 10,
   "metadata": {},
   "outputs": [
    {
     "data": {
      "text/plain": [
       "['hour',\n",
       " 'C1',\n",
       " 'banner_pos',\n",
       " 'site_id',\n",
       " 'site_domain',\n",
       " 'site_category',\n",
       " 'app_id',\n",
       " 'app_domain',\n",
       " 'app_category',\n",
       " 'device_id',\n",
       " 'device_ip',\n",
       " 'device_model',\n",
       " 'device_type',\n",
       " 'device_conn_type',\n",
       " 'C14',\n",
       " 'C15',\n",
       " 'C16',\n",
       " 'C17',\n",
       " 'C18',\n",
       " 'C19',\n",
       " 'C20',\n",
       " 'C21']"
      ]
     },
     "execution_count": 10,
     "metadata": {},
     "output_type": "execute_result"
    }
   ],
   "source": [
    "print('acture unknow feature ...')\n"
   ]
  },
  {
   "cell_type": "code",
   "execution_count": null,
   "metadata": {},
   "outputs": [],
   "source": []
  }
 ],
 "metadata": {
  "kernelspec": {
   "display_name": "Python 3",
   "language": "python",
   "name": "python3"
  },
  "language_info": {
   "codemirror_mode": {
    "name": "ipython",
    "version": 3
   },
   "file_extension": ".py",
   "mimetype": "text/x-python",
   "name": "python",
   "nbconvert_exporter": "python",
   "pygments_lexer": "ipython3",
   "version": "3.6.3"
  }
 },
 "nbformat": 4,
 "nbformat_minor": 2
}
