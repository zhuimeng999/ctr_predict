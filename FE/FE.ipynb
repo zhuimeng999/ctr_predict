{
 "cells": [
  {
   "cell_type": "code",
   "execution_count": 1,
   "metadata": {},
   "outputs": [],
   "source": [
    "import os\n",
    "import pickle\n",
    "import collections"
   ]
  },
  {
   "cell_type": "code",
   "execution_count": 2,
   "metadata": {},
   "outputs": [],
   "source": [
    "_RAW_COLUMN_NAMES = \\\n",
    "                ['id',          'click',            'hour',         'C1',           'banner_pos',           'site_id',\n",
    "                 'site_domain', 'site_category',    'app_id',       'app_domain',   'app_category',         'device_id',\n",
    "                 'device_ip',   'device_model',     'device_type',  'device_conn_type', 'C14',              'C15',\n",
    "                 'C16',         'C17',              'C18',          'C19',          'C20',                  'C21']\n",
    "progress_step = 400000\n",
    "train_filename = '../data/train.csv'\n",
    "test_filename = '../data/test.csv'\n",
    "\n",
    "train_dump_filename = 'train_count.pickle'\n",
    "valid_dump_filename = 'valid_count.pickle'\n",
    "test_dump_filename = 'test_count.pickle'\n",
    "\n",
    "output_dir = 'info'\n",
    "train_dump_path = os.path.join(output_dir, train_dump_filename)\n",
    "valid_dump_path = os.path.join(output_dir, valid_dump_filename)\n",
    "test_dump_path = os.path.join(output_dir, test_dump_filename)"
   ]
  },
  {
   "cell_type": "code",
   "execution_count": 3,
   "metadata": {},
   "outputs": [],
   "source": [
    "with open(train_dump_path, 'rb') as f:\n",
    "    train_count_dict = pickle.load(f)\n",
    "\n",
    "with open(valid_dump_path, 'rb') as f:\n",
    "    valid_count_dict = pickle.load(f)\n",
    "\n",
    "with open(test_dump_path, 'rb') as f:\n",
    "    test_count_dict = pickle.load(f)"
   ]
  },
  {
   "cell_type": "code",
   "execution_count": 4,
   "metadata": {},
   "outputs": [
    {
     "data": {
      "text/plain": [
       "(6865066, 33563901)"
      ]
     },
     "execution_count": 4,
     "metadata": {},
     "output_type": "execute_result"
    }
   ],
   "source": [
    "all_count_dict = { feature_name: collections.defaultdict(lambda:0) for feature_name in _RAW_COLUMN_NAMES[2:]}\n",
    "useful_count_dict = { feature_name: collections.defaultdict(lambda:0) for feature_name in _RAW_COLUMN_NAMES[2:]}\n",
    "predict_count_dict = { feature_name: collections.defaultdict(lambda:0) for feature_name in _RAW_COLUMN_NAMES[2:]}\n",
    "for feature_name in _RAW_COLUMN_NAMES[2:]:\n",
    "    for feature in train_count_dict[feature_name]:\n",
    "        all_count_dict[feature_name][feature] += train_count_dict[feature_name][feature]\n",
    "        useful_count_dict[feature_name][feature] += train_count_dict[feature_name][feature]\n",
    "    for feature in valid_count_dict[feature_name]:\n",
    "        all_count_dict[feature_name][feature] += valid_count_dict[feature_name][feature]\n",
    "        useful_count_dict[feature_name][feature] += valid_count_dict[feature_name][feature]\n",
    "        predict_count_dict[feature_name][feature] += valid_count_dict[feature_name][feature]\n",
    "    for feature in test_count_dict[feature_name]:\n",
    "        all_count_dict[feature_name][feature] += test_count_dict[feature_name][feature]\n",
    "        predict_count_dict[feature_name][feature] += test_count_dict[feature_name][feature]\n",
    "for feature_name in all_count_dict:\n",
    "    all_count_dict[feature_name] = dict(all_count_dict[feature_name])\n",
    "for feature_name in useful_count_dict:\n",
    "    useful_count_dict[feature_name] = dict(useful_count_dict[feature_name])\n",
    "for feature_name in predict_count_dict:\n",
    "    predict_count_dict[feature_name] = dict(predict_count_dict[feature_name])\n",
    "    \n",
    "click_count = train_count_dict['click']['1'] + valid_count_dict['click']['1'], train_count_dict['click']['0'] + valid_count_dict['click']['0']\n",
    "click_count"
   ]
  },
  {
   "cell_type": "code",
   "execution_count": 18,
   "metadata": {},
   "outputs": [
    {
     "name": "stdout",
     "output_type": "stream",
     "text": [
      "acture unknow feature ...\n"
     ]
    },
    {
     "data": {
      "text/plain": [
       "[('hour', 24, 4577464, 1.0),\n",
       " ('site_id', 105, 818259, 0.17875815080140445),\n",
       " ('site_domain', 167, 1404, 0.0003067200528502245),\n",
       " ('app_id', 584, 17436, 0.0038090960409519333),\n",
       " ('app_domain', 21, 498, 0.00010879386489986595),\n",
       " ('device_id', 209565, 383303, 0.08373697750544844),\n",
       " ('device_ip', 609169, 1502584, 0.32825686886887584),\n",
       " ('device_model', 52, 179, 3.910462212264258e-05),\n",
       " ('C14', 259, 1334955, 0.29163637332811354),\n",
       " ('C17', 39, 1295908, 0.28310610416597487),\n",
       " ('C19', 1, 857, 0.00018722157072125525),\n",
       " ('C21', 2, 196768, 0.04298624740686109)]"
      ]
     },
     "execution_count": 18,
     "metadata": {},
     "output_type": "execute_result"
    }
   ],
   "source": [
    "print('acture unknow feature ...')\n",
    "unknown_dict_act = dict()\n",
    "for k,v in test_count_dict.items():\n",
    "    unknown_list = set(v) - set(useful_count_dict[k])\n",
    "    if unknown_list:\n",
    "        unknown_dict_act[k] = { feature:v[feature] for feature in unknown_list}\n",
    "total_test_record_num = sum(test_count_dict['hour'].values())\n",
    "list(map(lambda x: (x[0], len(x[1]), sum(x[1].values()), sum(x[1].values())/total_test_record_num), unknown_dict_act.items()))"
   ]
  },
  {
   "cell_type": "code",
   "execution_count": 12,
   "metadata": {},
   "outputs": [
    {
     "data": {
      "text/plain": [
       "[('a7b53e4a', 1749), ('17d1b03f', 813053)]"
      ]
     },
     "execution_count": 12,
     "metadata": {},
     "output_type": "execute_result"
    }
   ],
   "source": [
    "list(filter(lambda x: x[1] > 1000, unknown_dict_act['site_id'].items()))"
   ]
  },
  {
   "cell_type": "code",
   "execution_count": 14,
   "metadata": {},
   "outputs": [
    {
     "data": {
      "text/plain": [
       "[('c18e2c5f', 365),\n",
       " ('57fd8754', 213),\n",
       " ('1003ce12', 205),\n",
       " ('06fb092e', 140),\n",
       " ('5532d220', 115),\n",
       " ('0b621dac', 67),\n",
       " ('a64fef17', 29),\n",
       " ('c233c83f', 27),\n",
       " ('31f39ebd', 13),\n",
       " ('7310f4eb', 8)]"
      ]
     },
     "execution_count": 14,
     "metadata": {},
     "output_type": "execute_result"
    }
   ],
   "source": [
    "sorted(unknown_dict_act['site_domain'].items(), key=lambda x: x[1], reverse=True)[:10]"
   ]
  },
  {
   "cell_type": "code",
   "execution_count": 19,
   "metadata": {},
   "outputs": [
    {
     "data": {
      "text/plain": [
       "[('4bf836e9', 1641),\n",
       " ('a1b8be2d', 1141),\n",
       " ('24afec8a', 1323),\n",
       " ('e6939e63', 1162),\n",
       " ('94ad729e', 1261),\n",
       " ('8ae6d5d0', 1015),\n",
       " ('02aa6429', 2815)]"
      ]
     },
     "execution_count": 19,
     "metadata": {},
     "output_type": "execute_result"
    }
   ],
   "source": [
    "list(filter(lambda x: x[1] > 1000, unknown_dict_act['app_id'].items()))"
   ]
  },
  {
   "cell_type": "code",
   "execution_count": null,
   "metadata": {},
   "outputs": [],
   "source": []
  }
 ],
 "metadata": {
  "kernelspec": {
   "display_name": "Python 3",
   "language": "python",
   "name": "python3"
  },
  "language_info": {
   "codemirror_mode": {
    "name": "ipython",
    "version": 3
   },
   "file_extension": ".py",
   "mimetype": "text/x-python",
   "name": "python",
   "nbconvert_exporter": "python",
   "pygments_lexer": "ipython3",
   "version": "3.6.3"
  }
 },
 "nbformat": 4,
 "nbformat_minor": 2
}
