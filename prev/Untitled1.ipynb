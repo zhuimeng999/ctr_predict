{
 "cells": [
  {
   "cell_type": "code",
   "execution_count": 18,
   "metadata": {},
   "outputs": [],
   "source": [
    "import tensorflow as tf\n",
    "import os\n",
    "import re\n",
    "import pandas as pd\n",
    "import numpy as np"
   ]
  },
  {
   "cell_type": "code",
   "execution_count": 5,
   "metadata": {},
   "outputs": [],
   "source": [
    "dpath = '/home/lucius/Projects/notebook/homework/ctr_predict/models/v2'"
   ]
  },
  {
   "cell_type": "code",
   "execution_count": 22,
   "metadata": {},
   "outputs": [
    {
     "name": "stdout",
     "output_type": "stream",
     "text": [
      "tag: \"accuracy\"\n",
      "simple_value: 0.7490055561065674\n",
      "\n",
      "tag: \"loss\"\n",
      "simple_value: 0.6928669214248657\n",
      "\n",
      "tag: \"checkpoint_path\"\n",
      "tensor {\n",
      "  dtype: DT_STRING\n",
      "  tensor_shape {\n",
      "  }\n",
      "  string_val: \"models/v2/logdata_0_0/model.ckpt-141446\"\n",
      "}\n",
      "\n",
      "tag: \"accuracy\"\n",
      "simple_value: 0.8282254934310913\n",
      "\n",
      "tag: \"loss\"\n",
      "simple_value: 0.6930378079414368\n",
      "\n",
      "tag: \"checkpoint_path\"\n",
      "tensor {\n",
      "  dtype: DT_STRING\n",
      "  tensor_shape {\n",
      "  }\n",
      "  string_val: \"models/v2/logdata_0_0/model.ckpt-282892\"\n",
      "}\n",
      "\n"
     ]
    },
    {
     "ename": "RuntimeError",
     "evalue": "No active exception to reraise",
     "output_type": "error",
     "traceback": [
      "\u001b[0;31m---------------------------------------------------------------------------\u001b[0m",
      "\u001b[0;31mRuntimeError\u001b[0m                              Traceback (most recent call last)",
      "\u001b[0;32m<ipython-input-22-3b2f7005ce82>\u001b[0m in \u001b[0;36m<module>\u001b[0;34m()\u001b[0m\n\u001b[1;32m     14\u001b[0m                     \u001b[0;32melse\u001b[0m\u001b[0;34m:\u001b[0m\u001b[0;34m\u001b[0m\u001b[0m\n\u001b[1;32m     15\u001b[0m                         \u001b[0mss_map2\u001b[0m\u001b[0;34m[\u001b[0m\u001b[0mi\u001b[0m\u001b[0;34m]\u001b[0m\u001b[0;34m[\u001b[0m\u001b[0mj\u001b[0m\u001b[0;34m]\u001b[0m \u001b[0;34m=\u001b[0m \u001b[0mv\u001b[0m\u001b[0;34m.\u001b[0m\u001b[0msimple_value\u001b[0m\u001b[0;34m\u001b[0m\u001b[0m\n\u001b[0;32m---> 16\u001b[0;31m         \u001b[0;32mraise\u001b[0m\u001b[0;34m\u001b[0m\u001b[0m\n\u001b[0m",
      "\u001b[0;31mRuntimeError\u001b[0m: No active exception to reraise"
     ]
    }
   ],
   "source": [
    "ss_map1 = np.zeros([5, 5])\n",
    "ss_map2 = np.zeros([5, 5])\n",
    "for i in range(4):\n",
    "    for j in range(5):\n",
    "        log_dir = os.path.join(dpath, 'logdata_' + str(i) + '_' + str(j), 'eval')\n",
    "        log_file = os.listdir(log_dir)[0]\n",
    "        assert re.match('events\\.out\\.tfevents\\.\\d+\\.luciuscomputer', log_file), log_file\n",
    "        for e in tf.train.summary_iterator(os.path.join(log_dir, log_file)):\n",
    "            for v in e.summary.value:\n",
    "                print(v)\n",
    "                if v.tag == 'loss':\n",
    "                    if ss_map1[i][j] == 0:\n",
    "                        ss_map1[i][j] = v.simple_value\n",
    "                    else:\n",
    "                        ss_map2[i][j] = v.simple_value\n",
    "        raise"
   ]
  },
  {
   "cell_type": "code",
   "execution_count": 20,
   "metadata": {},
   "outputs": [
    {
     "data": {
      "text/html": [
       "<div>\n",
       "<style scoped>\n",
       "    .dataframe tbody tr th:only-of-type {\n",
       "        vertical-align: middle;\n",
       "    }\n",
       "\n",
       "    .dataframe tbody tr th {\n",
       "        vertical-align: top;\n",
       "    }\n",
       "\n",
       "    .dataframe thead th {\n",
       "        text-align: right;\n",
       "    }\n",
       "</style>\n",
       "<table border=\"1\" class=\"dataframe\">\n",
       "  <thead>\n",
       "    <tr style=\"text-align: right;\">\n",
       "      <th></th>\n",
       "      <th>0</th>\n",
       "      <th>1</th>\n",
       "      <th>2</th>\n",
       "      <th>3</th>\n",
       "      <th>4</th>\n",
       "    </tr>\n",
       "  </thead>\n",
       "  <tbody>\n",
       "    <tr>\n",
       "      <th>0</th>\n",
       "      <td>0.692867</td>\n",
       "      <td>0.478761</td>\n",
       "      <td>0.442091</td>\n",
       "      <td>0.418319</td>\n",
       "      <td>0.408824</td>\n",
       "    </tr>\n",
       "    <tr>\n",
       "      <th>1</th>\n",
       "      <td>0.693211</td>\n",
       "      <td>0.480209</td>\n",
       "      <td>0.442109</td>\n",
       "      <td>0.417106</td>\n",
       "      <td>0.408054</td>\n",
       "    </tr>\n",
       "    <tr>\n",
       "      <th>2</th>\n",
       "      <td>0.692406</td>\n",
       "      <td>0.474483</td>\n",
       "      <td>0.442938</td>\n",
       "      <td>0.416692</td>\n",
       "      <td>0.409550</td>\n",
       "    </tr>\n",
       "    <tr>\n",
       "      <th>3</th>\n",
       "      <td>0.692795</td>\n",
       "      <td>0.484026</td>\n",
       "      <td>0.442704</td>\n",
       "      <td>0.417485</td>\n",
       "      <td>0.410897</td>\n",
       "    </tr>\n",
       "    <tr>\n",
       "      <th>4</th>\n",
       "      <td>0.000000</td>\n",
       "      <td>0.000000</td>\n",
       "      <td>0.000000</td>\n",
       "      <td>0.000000</td>\n",
       "      <td>0.000000</td>\n",
       "    </tr>\n",
       "  </tbody>\n",
       "</table>\n",
       "</div>"
      ],
      "text/plain": [
       "          0         1         2         3         4\n",
       "0  0.692867  0.478761  0.442091  0.418319  0.408824\n",
       "1  0.693211  0.480209  0.442109  0.417106  0.408054\n",
       "2  0.692406  0.474483  0.442938  0.416692  0.409550\n",
       "3  0.692795  0.484026  0.442704  0.417485  0.410897\n",
       "4  0.000000  0.000000  0.000000  0.000000  0.000000"
      ]
     },
     "execution_count": 20,
     "metadata": {},
     "output_type": "execute_result"
    }
   ],
   "source": [
    "pd.DataFrame(ss_map1)"
   ]
  },
  {
   "cell_type": "code",
   "execution_count": 21,
   "metadata": {},
   "outputs": [
    {
     "data": {
      "text/html": [
       "<div>\n",
       "<style scoped>\n",
       "    .dataframe tbody tr th:only-of-type {\n",
       "        vertical-align: middle;\n",
       "    }\n",
       "\n",
       "    .dataframe tbody tr th {\n",
       "        vertical-align: top;\n",
       "    }\n",
       "\n",
       "    .dataframe thead th {\n",
       "        text-align: right;\n",
       "    }\n",
       "</style>\n",
       "<table border=\"1\" class=\"dataframe\">\n",
       "  <thead>\n",
       "    <tr style=\"text-align: right;\">\n",
       "      <th></th>\n",
       "      <th>0</th>\n",
       "      <th>1</th>\n",
       "      <th>2</th>\n",
       "      <th>3</th>\n",
       "      <th>4</th>\n",
       "    </tr>\n",
       "  </thead>\n",
       "  <tbody>\n",
       "    <tr>\n",
       "      <th>0</th>\n",
       "      <td>0.693038</td>\n",
       "      <td>0.480303</td>\n",
       "      <td>0.442110</td>\n",
       "      <td>0.412185</td>\n",
       "      <td>0.406913</td>\n",
       "    </tr>\n",
       "    <tr>\n",
       "      <th>1</th>\n",
       "      <td>0.692711</td>\n",
       "      <td>0.480425</td>\n",
       "      <td>0.442284</td>\n",
       "      <td>0.416915</td>\n",
       "      <td>0.406861</td>\n",
       "    </tr>\n",
       "    <tr>\n",
       "      <th>2</th>\n",
       "      <td>0.692659</td>\n",
       "      <td>0.480080</td>\n",
       "      <td>0.442322</td>\n",
       "      <td>0.415039</td>\n",
       "      <td>0.407472</td>\n",
       "    </tr>\n",
       "    <tr>\n",
       "      <th>3</th>\n",
       "      <td>0.692690</td>\n",
       "      <td>0.480102</td>\n",
       "      <td>0.442288</td>\n",
       "      <td>0.415813</td>\n",
       "      <td>0.406366</td>\n",
       "    </tr>\n",
       "    <tr>\n",
       "      <th>4</th>\n",
       "      <td>0.000000</td>\n",
       "      <td>0.000000</td>\n",
       "      <td>0.000000</td>\n",
       "      <td>0.000000</td>\n",
       "      <td>0.000000</td>\n",
       "    </tr>\n",
       "  </tbody>\n",
       "</table>\n",
       "</div>"
      ],
      "text/plain": [
       "          0         1         2         3         4\n",
       "0  0.693038  0.480303  0.442110  0.412185  0.406913\n",
       "1  0.692711  0.480425  0.442284  0.416915  0.406861\n",
       "2  0.692659  0.480080  0.442322  0.415039  0.407472\n",
       "3  0.692690  0.480102  0.442288  0.415813  0.406366\n",
       "4  0.000000  0.000000  0.000000  0.000000  0.000000"
      ]
     },
     "execution_count": 21,
     "metadata": {},
     "output_type": "execute_result"
    }
   ],
   "source": [
    "pd.DataFrame(ss_map2)"
   ]
  },
  {
   "cell_type": "code",
   "execution_count": null,
   "metadata": {},
   "outputs": [],
   "source": []
  }
 ],
 "metadata": {
  "kernelspec": {
   "display_name": "Python 3",
   "language": "python",
   "name": "python3"
  },
  "language_info": {
   "codemirror_mode": {
    "name": "ipython",
    "version": 3
   },
   "file_extension": ".py",
   "mimetype": "text/x-python",
   "name": "python",
   "nbconvert_exporter": "python",
   "pygments_lexer": "ipython3",
   "version": "3.6.3"
  }
 },
 "nbformat": 4,
 "nbformat_minor": 2
}
