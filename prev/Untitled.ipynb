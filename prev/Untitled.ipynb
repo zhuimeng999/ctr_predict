{
 "cells": [
  {
   "cell_type": "code",
   "execution_count": 1,
   "metadata": {},
   "outputs": [],
   "source": [
    "import tensorflow as tf\n",
    "import pickle\n",
    "import numpy as np\n"
   ]
  },
  {
   "cell_type": "code",
   "execution_count": 4,
   "metadata": {},
   "outputs": [],
   "source": [
    "with open('output/feature_count.pickle', 'rb') as f:\n",
    "    feature_count = pickle.load(f)\n",
    "with open('output/feature_map.pickle', 'rb') as f:\n",
    "    feature_map = pickle.load(f)\n",
    "with open('output/train_format.csv', 'r') as f:\n",
    "    columns = f.readline().strip().split(',')"
   ]
  },
  {
   "cell_type": "code",
   "execution_count": 6,
   "metadata": {},
   "outputs": [
    {
     "data": {
      "text/plain": [
       "{'id': 0,\n",
       " 'click': 1,\n",
       " 'hour': 2,\n",
       " 'C1': 3,\n",
       " 'banner_pos': 4,\n",
       " 'site_id': 5,\n",
       " 'site_domain': 6,\n",
       " 'site_category': 7,\n",
       " 'app_id': 8,\n",
       " 'app_domain': 9,\n",
       " 'app_category': 10,\n",
       " 'device_id': 11,\n",
       " 'device_ip': 12,\n",
       " 'device_model': 13,\n",
       " 'device_type': 14,\n",
       " 'device_conn_type': 15,\n",
       " 'C14': 16,\n",
       " 'C15': 17,\n",
       " 'C16': 18,\n",
       " 'C17': 19,\n",
       " 'C18': 20,\n",
       " 'C19': 21,\n",
       " 'C20': 22,\n",
       " 'C21': 23,\n",
       " 'weekday': 24}"
      ]
     },
     "execution_count": 6,
     "metadata": {},
     "output_type": "execute_result"
    }
   ],
   "source": [
    "col_to_id = dict(map(lambda x: (x[1], x[0]), enumerate(columns)))\n",
    "col_to_id"
   ]
  },
  {
   "cell_type": "code",
   "execution_count": 8,
   "metadata": {},
   "outputs": [],
   "source": [
    "rfeature_map = list(map(lambda x: dict(map(lambda y:(y[1], y[0]), x.items())), feature_map))"
   ]
  },
  {
   "cell_type": "code",
   "execution_count": 24,
   "metadata": {},
   "outputs": [
    {
     "data": {
      "text/plain": [
       "509166"
      ]
     },
     "execution_count": 24,
     "metadata": {},
     "output_type": "execute_result"
    }
   ],
   "source": [
    "feature_count[col_to_id['C19']][rfeature_map[col_to_id['C19']][12]]"
   ]
  },
  {
   "cell_type": "code",
   "execution_count": 26,
   "metadata": {},
   "outputs": [
    {
     "data": {
      "text/plain": [
       "{'50': 34128296,\n",
       " '250': 1618659,\n",
       " '36': 289116,\n",
       " '480': 97204,\n",
       " '90': 67987,\n",
       " '20': 3050,\n",
       " '768': 2244,\n",
       " '320': 2021,\n",
       " '1024': 1452}"
      ]
     },
     "execution_count": 26,
     "metadata": {},
     "output_type": "execute_result"
    }
   ],
   "source": [
    "feature_count[col_to_id['C16']]"
   ]
  },
  {
   "cell_type": "code",
   "execution_count": 29,
   "metadata": {},
   "outputs": [
    {
     "data": {
      "text/plain": [
       "2484613"
      ]
     },
     "execution_count": 29,
     "metadata": {},
     "output_type": "execute_result"
    }
   ],
   "source": [
    "len(feature_count[col_to_id['device_id']])"
   ]
  },
  {
   "cell_type": "code",
   "execution_count": 37,
   "metadata": {},
   "outputs": [
    {
     "data": {
      "text/plain": [
       "[('id', 0),\n",
       " ('click', 0),\n",
       " ('hour', 0),\n",
       " ('C1', 7),\n",
       " ('banner_pos', 7),\n",
       " ('site_id', 4642),\n",
       " ('site_domain', 7564),\n",
       " ('site_category', 26),\n",
       " ('app_id', 8291),\n",
       " ('app_domain', 548),\n",
       " ('app_category', 36),\n",
       " ('device_id', 2484613),\n",
       " ('device_ip', 6134351),\n",
       " ('device_model', 8162),\n",
       " ('device_type', 5),\n",
       " ('device_conn_type', 4),\n",
       " ('C14', 2470),\n",
       " ('C15', 8),\n",
       " ('C16', 9),\n",
       " ('C17', 407),\n",
       " ('C18', 4),\n",
       " ('C19', 66),\n",
       " ('C20', 172),\n",
       " ('C21', 55),\n",
       " 0]"
      ]
     },
     "execution_count": 37,
     "metadata": {},
     "output_type": "execute_result"
    }
   ],
   "source": [
    "list(map(lambda x: (x[1], len(feature_count[x[0]])) if x[0] < 24 else 0, enumerate(columns)))"
   ]
  },
  {
   "cell_type": "code",
   "execution_count": null,
   "metadata": {},
   "outputs": [],
   "source": []
  }
 ],
 "metadata": {
  "kernelspec": {
   "display_name": "Python 3",
   "language": "python",
   "name": "python3"
  },
  "language_info": {
   "codemirror_mode": {
    "name": "ipython",
    "version": 3
   },
   "file_extension": ".py",
   "mimetype": "text/x-python",
   "name": "python",
   "nbconvert_exporter": "python",
   "pygments_lexer": "ipython3",
   "version": "3.6.3"
  }
 },
 "nbformat": 4,
 "nbformat_minor": 2
}
